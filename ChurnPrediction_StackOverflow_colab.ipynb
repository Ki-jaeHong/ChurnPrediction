{
 "cells": [
  {
   "cell_type": "markdown",
   "metadata": {
    "colab_type": "text",
    "id": "ROIppmEol7Ra"
   },
   "source": [
    "Paper: https://www.andrew.cmu.edu/user/lakoglu/pubs/StackOverflow-churn.pdf\n",
    "\n",
    "Description of datasets: https://ia800107.us.archive.org/27/items/stackexchange/readme.txt\n",
    "\n",
    "Site for download of datasets: https://archive.org/details/stackexchange\n",
    "\n",
    "This code has 6 steps\n",
    "\n",
    "    1. Load StackOverflow datasets as dataframe\n",
    "    2. Extract and label the datasets for each task\n",
    "    3. Extract features for each task\n",
    "    4. Analyze features\n",
    "    5. Train models for each task with the features\n",
    "    6. Quantify the importance of each feature category"
   ]
  },
  {
   "cell_type": "markdown",
   "metadata": {
    "colab_type": "text",
    "id": "kl2oTvfkl7Rb"
   },
   "source": [
    "1. Load StackOverflow datasets as dataframe"
   ]
  },
  {
   "cell_type": "code",
   "execution_count": null,
   "metadata": {
    "colab": {},
    "colab_type": "code",
    "id": "Dn14pQ4vowkV"
   },
   "outputs": [],
   "source": [
    "import sys\n",
    "!{sys.executable} -m pip install xmltodict"
   ]
  },
  {
   "cell_type": "code",
   "execution_count": null,
   "metadata": {
    "colab": {},
    "colab_type": "code",
    "id": "6Ig3ZhwioqcF"
   },
   "outputs": [],
   "source": [
    "!pip install -U -q PyDrive\n",
    "from pydrive.auth import GoogleAuth\n",
    "from pydrive.drive import GoogleDrive\n",
    "from google.colab import auth\n",
    "from oauth2client.client import GoogleCredentials\n",
    "\n",
    "import xmltodict\n",
    "import pandas as pd\n",
    "import numpy as np\n",
    "import matplotlib.pyplot as plt\n",
    "\n",
    "auth.authenticate_user()\n",
    "gauth = GoogleAuth()\n",
    "gauth.credentials = GoogleCredentials.get_application_default()\n",
    "gdrive = GoogleDrive(gauth)"
   ]
  },
  {
   "cell_type": "code",
   "execution_count": null,
   "metadata": {
    "colab": {},
    "colab_type": "code",
    "id": "zzRJ4hV7o5OO"
   },
   "outputs": [],
   "source": [
    "def load_from_google_drive(dir_id):\n",
    "    files = []\n",
    "    file_list = gdrive.ListFile({'q': \"'{}' in parents\".format(dir_id)}).GetList()\n",
    "    for f in file_list:\n",
    "        if f['title'] in ['Users.xml', 'Posts.xml',\n",
    "                          'users_reduce.pkl', 'posts_reduce.pkl']:\n",
    "            print('  Load file: {}'.format(f['title']))\n",
    "            f_ = drive.CreateFile({'id': f['id']})\n",
    "            f_.GetContentFile(f['title'])\n",
    "            files.append(f['title'])\n",
    "    return files\n",
    "\n",
    "\n",
    "# load_from_google_drive('1Fp_7GDH_t7xfnU8aXeKrcBC54_nECOcu')  ### Full dataset\n",
    "# load_from_google_drive('1haYAgCV-TqTMYIk8N4eGE9H4hY2np5xr')   ### Small dataset\n",
    "load_from_google_drive('1CRE27AaxJuX-9Kxtgk2GnmxQt6ECHeJS')   ### Tiny dataset\n"
   ]
  },
  {
   "cell_type": "code",
   "execution_count": null,
   "metadata": {
    "colab": {},
    "colab_type": "code",
    "id": "-WVN3f18l7Rj"
   },
   "outputs": [],
   "source": [
    "# Read xml file and transform to pandas dataframe\n",
    "\n",
    "def xml2df(xml_path):\n",
    "    f = open(xml_path)\n",
    "\n",
    "    return"
   ]
  },
  {
   "cell_type": "code",
   "execution_count": null,
   "metadata": {
    "colab": {},
    "colab_type": "code",
    "id": "La1dwgRWl7Rl",
    "scrolled": true
   },
   "outputs": [],
   "source": [
    "# 1. Read Users.xml\n",
    "\n",
    "xml_path = 'Users.xml'\n",
    "users_df = xml2df(xml_path)\n",
    "\n",
    "# 2. Change data type of columns\n"
   ]
  },
  {
   "cell_type": "code",
   "execution_count": null,
   "metadata": {
    "colab": {},
    "colab_type": "code",
    "id": "I1r52Jogl7Rn",
    "scrolled": true
   },
   "outputs": [],
   "source": [
    "# 1. Read Posts.xml\n",
    "\n",
    "xml_path = 'Posts.xml'\n",
    "posts_df = xml2df(xml_path)\n",
    "\n",
    "# 2. Change data type of columns\n"
   ]
  },
  {
   "cell_type": "code",
   "execution_count": null,
   "metadata": {
    "colab": {},
    "colab_type": "code",
    "id": "92Q2l4Fgl7Rp"
   },
   "outputs": [],
   "source": [
    "# Save and Load dataframe\n",
    "from google.colab import drive\n",
    "drive.mount('/content/gdrive')\n",
    "\n",
    "def save_df(df, filename):\n",
    "    df.to_pickle(\"{}.pkl\".format(filename))\n",
    "\n",
    "    \n",
    "def load_df(filename):\n",
    "    return pd.read_pickle(\"{}.pkl\".format(filename))\n",
    "\n",
    "  \n"
   ]
  },
  {
   "cell_type": "markdown",
   "metadata": {
    "colab_type": "text",
    "id": "sWRRBPB1l7Rr"
   },
   "source": [
    "2. Extract and label the datasets for each tasks\n",
    "\n",
    "You should extract the dataset for the period of the dataset: July 31, 2008 ~  July 31, 2012 \n",
    "\n",
    "There are 2 tasks:\n",
    "\n",
    "    A. After a user's K-th post, predict how likely it is that the user will churn\n",
    "    B. After the T-th day from the account creation of a user, predict how likely it is that the user will churn"
   ]
  },
  {
   "cell_type": "code",
   "execution_count": null,
   "metadata": {
    "colab": {},
    "colab_type": "code",
    "id": "MLCNCd48l7Rs"
   },
   "outputs": [],
   "source": [
    "# You should extract the dataset for the period of the dataset: July 31, 2008 ~  July 31, 2012\n",
    "\n",
    "start_time = pd.to_datetime('2008-07-31')\n",
    "end_time = pd.to_datetime('2012-07-31')\n",
    "\n",
    "posts_df = \n",
    "users_df = "
   ]
  },
  {
   "cell_type": "code",
   "execution_count": null,
   "metadata": {
    "colab": {},
    "colab_type": "code",
    "id": "wklf3QB8l7Ru"
   },
   "outputs": [],
   "source": [
    "# Dataset in Task 1\n",
    "#   Posts: Extract K posts of each user\n",
    "#   Users: Extract users who post at least K\n",
    "\n",
    "def getTask1Posts(posts, K=20):\n",
    "    return\n",
    "\n",
    "\n",
    "def getTask1Users(users, posts, K=20):\n",
    "    return"
   ]
  },
  {
   "cell_type": "code",
   "execution_count": null,
   "metadata": {
    "colab": {},
    "colab_type": "code",
    "id": "pmB8yt20l7Rv"
   },
   "outputs": [],
   "source": [
    "# Dataset in Task 2\n",
    "#   Users: Extract users who post at least 1\n",
    "#   Posts: Extract posts which create before T day from the account creation of the owner\n",
    "\n",
    "def getTask2Posts(users, posts, T=30):\n",
    "    return"
   ]
  },
  {
   "cell_type": "code",
   "execution_count": null,
   "metadata": {
    "colab": {},
    "colab_type": "code",
    "id": "Pd1prQORl7Rx"
   },
   "outputs": [],
   "source": [
    "# Churn in Task 1\n",
    "#   Churners: Users who did not post for at least 6 months from their K-th post \n",
    "#   Stayers:  Users who created at least one post within the 6 months from their K-th post\n",
    "\n",
    "def getTask1Labels(users, posts, K=20):\n",
    "    label_df = users.drop(users.columns, axis=1)\n",
    "    label_df = getTask1Users(label_df, posts, K=K)\n",
    "\n",
    "    label_df['is_churn'] = 0.0\n",
    "    return\n"
   ]
  },
  {
   "cell_type": "code",
   "execution_count": null,
   "metadata": {
    "colab": {},
    "colab_type": "code",
    "id": "6fSfX-2ql7Rz"
   },
   "outputs": [],
   "source": [
    "# Churn in Task2\n",
    "#   Churners: Users who did not post for at least 6 months from T days after account creation\n",
    "#   Stayers:  Users who created at least one post within the 6 months from T days after account creation\n",
    "\n",
    "def getTask2Labels(users, posts, T=30):\n",
    "    label_df = users.drop(users.columns, axis=1)\n",
    "    label_df = getTask1Users(label_df, posts, K=1)\n",
    "\n",
    "    label_df['is_churn'] = 0.0\n",
    "    return label_df\n"
   ]
  },
  {
   "cell_type": "markdown",
   "metadata": {
    "colab_type": "text",
    "id": "nz2B7m3xl7R1"
   },
   "source": [
    "3. Extract features for each task"
   ]
  },
  {
   "cell_type": "markdown",
   "metadata": {
    "colab_type": "text",
    "id": "nGb3gqh-l7R2"
   },
   "source": [
    "3-1. Temporal features"
   ]
  },
  {
   "cell_type": "code",
   "execution_count": null,
   "metadata": {
    "colab": {},
    "colab_type": "code",
    "id": "hqzTqVCBl7R3",
    "scrolled": true
   },
   "outputs": [],
   "source": [
    "# Temporal features 1: gap1\n",
    "def getTimeGap1OfUser(users, posts):\n",
    "    return\n"
   ]
  },
  {
   "cell_type": "code",
   "execution_count": null,
   "metadata": {
    "colab": {},
    "colab_type": "code",
    "id": "ZkzNM2MGl7R5"
   },
   "outputs": [],
   "source": [
    "# Temporal features 2: gapK\n",
    "def getTimeGapsOfPosts(posts, K):\n",
    "    pass\n"
   ]
  },
  {
   "cell_type": "code",
   "execution_count": null,
   "metadata": {
    "colab": {},
    "colab_type": "code",
    "id": "tMKw3tZWl7R6"
   },
   "outputs": [],
   "source": [
    "# Temporal features 3: last_gap\n",
    "def getTimeLastGapOfPosts(posts):\n",
    "    return\n"
   ]
  },
  {
   "cell_type": "code",
   "execution_count": null,
   "metadata": {
    "colab": {},
    "colab_type": "code",
    "id": "oiFrX45Xl7R8"
   },
   "outputs": [],
   "source": [
    "# Temporal features 4: time_since_last_post\n",
    "def getTimeSinceLastPost(users, posts):\n",
    "    return\n"
   ]
  },
  {
   "cell_type": "code",
   "execution_count": null,
   "metadata": {
    "colab": {},
    "colab_type": "code",
    "id": "okM3cXg3l7R-"
   },
   "outputs": [],
   "source": [
    "# Temporal features 5: mean_gap\n",
    "def getTimeMeanGap(posts):\n",
    "    return\n"
   ]
  },
  {
   "cell_type": "markdown",
   "metadata": {
    "colab_type": "text",
    "id": "6EqH66uXl7SA"
   },
   "source": [
    "3-2. Frequency features"
   ]
  },
  {
   "cell_type": "code",
   "execution_count": null,
   "metadata": {
    "colab": {},
    "colab_type": "code",
    "id": "Pi76Vz5Nl7SB"
   },
   "outputs": [],
   "source": [
    "# Frequency features 1: num_answers\n",
    "# Frequency features 2: num_questions\n",
    "def getNumAnswers(posts):\n",
    "    return\n",
    "\n",
    "def getNumQuestions(posts):\n",
    "    return\n"
   ]
  },
  {
   "cell_type": "code",
   "execution_count": null,
   "metadata": {
    "colab": {},
    "colab_type": "code",
    "id": "7Yta5_55l7SD"
   },
   "outputs": [],
   "source": [
    "# Frequency features 3: ans_ques_ratio\n",
    "def getAnsQuesRatio(num_answers, num_questions):\n",
    "    return\n"
   ]
  },
  {
   "cell_type": "code",
   "execution_count": null,
   "metadata": {
    "colab": {},
    "colab_type": "code",
    "id": "tNgZeEjYl7SH"
   },
   "outputs": [],
   "source": [
    "# Frequency features 4: num_posts\n",
    "def getNumPosts(posts):\n",
    "    return\n"
   ]
  },
  {
   "cell_type": "markdown",
   "metadata": {
    "colab_type": "text",
    "id": "o-U9olJLl7SK"
   },
   "source": [
    "3-3. Knowledge features"
   ]
  },
  {
   "cell_type": "code",
   "execution_count": null,
   "metadata": {
    "colab": {},
    "colab_type": "code",
    "id": "l38y9l7Kl7SL"
   },
   "outputs": [],
   "source": [
    "# Knowledge features 1: accepted_answerer_rep\n",
    "def getRepOfAcceptedAnswerer(users, posts):\n",
    "    return\n"
   ]
  },
  {
   "cell_type": "code",
   "execution_count": null,
   "metadata": {
    "colab": {},
    "colab_type": "code",
    "id": "u2tkYrM1l7SM"
   },
   "outputs": [],
   "source": [
    "# Knowledge features 2: max_rep_answerer \n",
    "def getMaxRepAmongAnswerer(users, posts):\n",
    "    return\n"
   ]
  },
  {
   "cell_type": "code",
   "execution_count": null,
   "metadata": {
    "colab": {},
    "colab_type": "code",
    "id": "ehreYz6Vl7SO"
   },
   "outputs": [],
   "source": [
    "# Knowledge features 3: num_que_answered\n",
    "def getNumQueAnswered(posts):\n",
    "    return\n"
   ]
  },
  {
   "cell_type": "code",
   "execution_count": null,
   "metadata": {
    "colab": {},
    "colab_type": "code",
    "id": "T1mKTAt4l7SQ"
   },
   "outputs": [],
   "source": [
    "# Knowledge features 4: time_for_first_ans\n",
    "def getTimeForFirstAns(posts):\n",
    "    return\n"
   ]
  },
  {
   "cell_type": "code",
   "execution_count": null,
   "metadata": {
    "colab": {},
    "colab_type": "code",
    "id": "fhxfGYF8l7SS"
   },
   "outputs": [],
   "source": [
    "# Knowledge features 5: rep_questioner\n",
    "def getAvgRepOfQuestioner(users, posts):\n",
    "    return\n"
   ]
  },
  {
   "cell_type": "code",
   "execution_count": null,
   "metadata": {
    "colab": {},
    "colab_type": "code",
    "id": "j-Vwd3_Yl7ST"
   },
   "outputs": [],
   "source": [
    "# Knowledge features 6: rep_answerers\n",
    "def getAvgRepOfAnswerer(users, posts):\n",
    "    return\n"
   ]
  },
  {
   "cell_type": "code",
   "execution_count": null,
   "metadata": {
    "colab": {},
    "colab_type": "code",
    "id": "k8kT7O60l7SV"
   },
   "outputs": [],
   "source": [
    "# Knowledge features 7: rep_co_answerers\n",
    "def getAvgRepOfCoAnswerer(users, posts):\n",
    "    return\n"
   ]
  },
  {
   "cell_type": "code",
   "execution_count": null,
   "metadata": {
    "colab": {},
    "colab_type": "code",
    "id": "G7_Dg4s4l7Sc",
    "scrolled": true
   },
   "outputs": [],
   "source": [
    "# Knowledge features 8: num_answers_recvd\n",
    "def getAvgNumAnsReceived(posts):\n",
    "    return\n"
   ]
  },
  {
   "cell_type": "markdown",
   "metadata": {
    "colab_type": "text",
    "id": "qB3WcQkzl7Se"
   },
   "source": [
    "3-4. Speed features"
   ]
  },
  {
   "cell_type": "code",
   "execution_count": null,
   "metadata": {
    "colab": {},
    "colab_type": "code",
    "id": "OLjtYTBCl7Se"
   },
   "outputs": [],
   "source": [
    "# Speed features 1: answering_speed\n",
    "def getAnsweringSpeed(posts):\n",
    "    return\n"
   ]
  },
  {
   "cell_type": "markdown",
   "metadata": {
    "colab_type": "text",
    "id": "PN25VoGSl7Si"
   },
   "source": [
    "3-5. Quality features"
   ]
  },
  {
   "cell_type": "code",
   "execution_count": null,
   "metadata": {
    "colab": {},
    "colab_type": "code",
    "id": "owAXLCHfl7Sj",
    "scrolled": true
   },
   "outputs": [],
   "source": [
    "# Quality features 1: ans_score\n",
    "# Quality features 2: que_score\n",
    "def getScoreOfAnswers(posts):\n",
    "    return\n",
    "\n",
    "def getScoreOfQuestions(posts):\n",
    "    return\n"
   ]
  },
  {
   "cell_type": "markdown",
   "metadata": {
    "colab_type": "text",
    "id": "hWpZ6Omvl7Sl"
   },
   "source": [
    "3-6. Consistency features"
   ]
  },
  {
   "cell_type": "code",
   "execution_count": null,
   "metadata": {
    "colab": {},
    "colab_type": "code",
    "id": "ZidajU65l7Sl",
    "scrolled": true
   },
   "outputs": [],
   "source": [
    "# Consistency features 1: ans_stddev\n",
    "# Consistency features 2: que_stddev\n",
    "def getStdevOfScoresOfAnswers(posts):\n",
    "    return\n",
    "\n",
    "def getStdevOfScoresOfQuestions(posts):\n",
    "    return\n"
   ]
  },
  {
   "cell_type": "markdown",
   "metadata": {
    "colab_type": "text",
    "id": "BzSasEbhl7Sn"
   },
   "source": [
    "3-7. Gratitude features"
   ]
  },
  {
   "cell_type": "code",
   "execution_count": null,
   "metadata": {
    "colab": {},
    "colab_type": "code",
    "id": "Bo5mJ4Wzl7Sn",
    "scrolled": true
   },
   "outputs": [],
   "source": [
    "# Gratitude features 1: ans_comments\n",
    "# Gratitude features 2: que_comments\n",
    "def getAvgNumOfAnswers(posts):\n",
    "    return\n",
    "\n",
    "def getAvgNumOfQuestions(posts):\n",
    "    return\n"
   ]
  },
  {
   "cell_type": "markdown",
   "metadata": {
    "colab_type": "text",
    "id": "7LovQqbal7So"
   },
   "source": [
    "3-8. Competitiveness features"
   ]
  },
  {
   "cell_type": "code",
   "execution_count": null,
   "metadata": {
    "colab": {},
    "colab_type": "code",
    "id": "7m7_sQbOl7Sp",
    "scrolled": true
   },
   "outputs": [],
   "source": [
    "# Competitiveness features 1: relative_rank_pos\n",
    "def getRelRankPos(posts):\n",
    "    return\n"
   ]
  },
  {
   "cell_type": "markdown",
   "metadata": {
    "colab_type": "text",
    "id": "Dw04SbMBl7Sr"
   },
   "source": [
    "3-9. Content features"
   ]
  },
  {
   "cell_type": "code",
   "execution_count": null,
   "metadata": {
    "colab": {},
    "colab_type": "code",
    "id": "7vy95ac9l7Ss",
    "scrolled": false
   },
   "outputs": [],
   "source": [
    "# Content features 1: ans_length\n",
    "# Content features 2: que_length\n",
    "def getLengthOfAnswers(posts):\n",
    "    return\n",
    "\n",
    "def getLengthOfQuestions(posts):\n",
    "    return\n"
   ]
  },
  {
   "cell_type": "markdown",
   "metadata": {
    "colab_type": "text",
    "id": "_1mcHpyXl7Su"
   },
   "source": [
    "3-10. Extract all features for each tasks"
   ]
  },
  {
   "cell_type": "code",
   "execution_count": null,
   "metadata": {
    "colab": {},
    "colab_type": "code",
    "id": "Xh361Hnql7Su"
   },
   "outputs": [],
   "source": [
    "def getFeatures(features, users, posts, task, K=None, T=None):\n",
    "    assert(task in [1,2])\n",
    "    \n",
    "    if -1 in features.index:\n",
    "        features = features.drop([-1])\n",
    "    \n",
    "    return features"
   ]
  },
  {
   "cell_type": "code",
   "execution_count": null,
   "metadata": {
    "colab": {},
    "colab_type": "code",
    "id": "VQEy-5ksl7Sw",
    "scrolled": true
   },
   "outputs": [],
   "source": [
    "task1_features = []\n",
    "for K in range(1, 20+1):\n",
    "    task1_features.append()\n",
    "    \n",
    "task2_features = []\n",
    "for T in [7, 15, 30]:\n",
    "    task2_features.append()"
   ]
  },
  {
   "cell_type": "markdown",
   "metadata": {
    "colab_type": "text",
    "id": "GmWhLseLl7Sy"
   },
   "source": [
    "4. Analyze features\n"
   ]
  },
  {
   "cell_type": "code",
   "execution_count": null,
   "metadata": {
    "colab": {},
    "colab_type": "code",
    "id": "UL5odKivl7Sy",
    "scrolled": true
   },
   "outputs": [],
   "source": [
    "# Figure 2: Gap between posts\n",
    "#    For a user who churns, gap between consecutive posts keeps increasing. \n",
    "#    Gaps for those who stay are much lower, and stabilize around 20,000 minutes,\n",
    "#      indicating routine posting activity in every ≈2 weeks.\n",
    "\n",
    "for K in range(2, 21):\n",
    "    pass"
   ]
  },
  {
   "cell_type": "code",
   "execution_count": null,
   "metadata": {
    "colab": {},
    "colab_type": "code",
    "id": "NfVkPIxvl7S0",
    "scrolled": true
   },
   "outputs": [],
   "source": [
    "# Figure 3: # Answers vs Churn probability\n",
    "#    The probability of churning for a user decreases the more answers s/he provides.\n",
    "#    It is even lower if s/he asks more questions alongside.\n",
    "\n",
    "for features in task2_features:\n",
    "    pass"
   ]
  },
  {
   "cell_type": "code",
   "execution_count": null,
   "metadata": {
    "colab": {},
    "colab_type": "code",
    "id": "_Y8Pt54yl7S1"
   },
   "outputs": [],
   "source": [
    "# Figure 4: K vs Time taken for the first answer to arrive\n",
    "#    The more the time taken for a user to receive an answer, \n",
    "#      the lesser the satisfaction level and the more the chances of churning.\n"
   ]
  },
  {
   "cell_type": "markdown",
   "metadata": {
    "colab_type": "text",
    "id": "7TXEYmQUl7S4"
   },
   "source": [
    "5. Train models for each tasks with the features\n",
    "\n",
    "    1. Decision Tree\n",
    "    2. SVM (Linear)\n",
    "    3. SVM (RBF)\n",
    "    4. Logistic Regression\n",
    "    "
   ]
  },
  {
   "cell_type": "code",
   "execution_count": null,
   "metadata": {
    "colab": {},
    "colab_type": "code",
    "id": "WehzIb8Gl7S4"
   },
   "outputs": [],
   "source": [
    "# Table 2: Performance on Task 1\n",
    "\n",
    "from sklearn.tree import DecisionTreeClassifier\n",
    "from sklearn.svm import SVC\n",
    "from sklearn.linear_model import LogisticRegression\n",
    "from sklearn.model_selection import KFold\n",
    "\n",
    "seed = 1234\n",
    "\n",
    "for i, features in enumerate(task1_features):\n",
    "    pass"
   ]
  },
  {
   "cell_type": "code",
   "execution_count": null,
   "metadata": {
    "colab": {},
    "colab_type": "code",
    "id": "2GO79rO0l7S7",
    "scrolled": true
   },
   "outputs": [],
   "source": [
    "# Table 3: Performance on Task 2\n",
    "\n",
    "for i, features in enumerate(task2_features):\n",
    "    pass"
   ]
  },
  {
   "cell_type": "markdown",
   "metadata": {
    "colab_type": "text",
    "id": "i0OP2c0Kl7S-"
   },
   "source": [
    "6. Draw the graphs in the paper\n"
   ]
  },
  {
   "cell_type": "code",
   "execution_count": null,
   "metadata": {
    "colab": {},
    "colab_type": "code",
    "id": "k1qbhmsSl7S-"
   },
   "outputs": [],
   "source": [
    "# Table 4: Temporal Features Analysis\n",
    "\n",
    "for i, features in enumerate(task1_features):\n",
    "    pass"
   ]
  },
  {
   "cell_type": "code",
   "execution_count": null,
   "metadata": {
    "colab": {},
    "colab_type": "code",
    "id": "8cTcNyKOl7TA"
   },
   "outputs": [],
   "source": [
    "# Figure 5: Churn prediction accuracy when features from each category are used in isolation\n"
   ]
  }
 ],
 "metadata": {
  "colab": {
   "collapsed_sections": [],
   "name": "ChurnPrediction_StackOverflow_colab.ipynb",
   "provenance": []
  },
  "kernelspec": {
   "display_name": "Python 3",
   "language": "python",
   "name": "python3"
  },
  "language_info": {
   "codemirror_mode": {
    "name": "ipython",
    "version": 3
   },
   "file_extension": ".py",
   "mimetype": "text/x-python",
   "name": "python",
   "nbconvert_exporter": "python",
   "pygments_lexer": "ipython3",
   "version": "3.7.3"
  }
 },
 "nbformat": 4,
 "nbformat_minor": 1
}
